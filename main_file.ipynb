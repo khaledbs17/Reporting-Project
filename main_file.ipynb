{
 "cells": [
  {
   "cell_type": "code",
   "id": "initial_id",
   "metadata": {
    "collapsed": true,
    "ExecuteTime": {
     "end_time": "2024-07-21T13:07:43.318678Z",
     "start_time": "2024-07-21T13:07:43.066101Z"
    }
   },
   "source": [
    "import pandas as pd\n",
    "import numpy as np\n",
    "import matplotlib.pyplot as plt\n",
    "import seaborn as sns\n",
    "import sys\n",
    "import pathlib\n",
    "import kaleido\n",
    "import plotly.express as px\n",
    "import plotly.io as pio\n",
    "from IPython.display import display, Markdown\n",
    "\n",
    "pd.set_option('future.no_silent_downcasting', True)"
   ],
   "outputs": [],
   "execution_count": 2
  },
  {
   "metadata": {
    "ExecuteTime": {
     "end_time": "2024-07-21T13:07:46.450805Z",
     "start_time": "2024-07-21T13:07:44.352285Z"
    }
   },
   "cell_type": "code",
   "source": [
    "# borne de recharge\n",
    "data =  pd.read_csv(\n",
    "    \".\\data\\consolidation-etalab-schema-irve-statique-v-2.3.1-20240705.csv\",\n",
    "    low_memory=False\n",
    "    ,parse_dates=[\"date_mise_en_service\"]\n",
    "    ,dtype={\"consolidated_code_postal\": str\n",
    "                       })\\\n",
    "  .sort_values(['id_pdc_itinerance', 'last_modified'])\\\n",
    "\n",
    "# Département\n",
    "df_dep = pd.read_csv(\n",
    "    \".\\data\\departements-france.csv\"\n",
    "    ,dtype={\"code_departement\": str\n",
    "                        })\n",
    "\n",
    "\n",
    "\n",
    "data.head()"
   ],
   "id": "71df5d7b689a6c2b",
   "outputs": [
    {
     "data": {
      "text/plain": [
       "                                 nom_amenageur  siren_amenageur  \\\n",
       "0                       Intermarché Yssingeaux              NaN   \n",
       "1                            Hotel saint Alban      379629447.0   \n",
       "2  Hôtel Restaurant Campanile Nogent-sur-Marne      349009423.0   \n",
       "3                      Résidence Les Calanques      812328128.0   \n",
       "4                                       1PACTE      803719277.0   \n",
       "\n",
       "                     contact_amenageur nom_operateur      contact_operateur  \\\n",
       "0                                  NaN       E-TOTEM     contact@e-totem.fr   \n",
       "1           claudel.philippe@gmail.com   ELECTROMAPS  oscar@electromaps.com   \n",
       "2  manager.nogentsurmarne@campanile.fr   ELECTROMAPS  oscar@electromaps.com   \n",
       "3    albarry@residence-lescalanques.fr   ELECTROMAPS  oscar@electromaps.com   \n",
       "4                    m.levy@1pacte.com   ELECTROMAPS  oscar@electromaps.com   \n",
       "\n",
       "  telephone_operateur                                 nom_enseigne  \\\n",
       "0                 NaN                       Intermarché Yssingeaux   \n",
       "1      34 931.574.967                            Hotel saint alban   \n",
       "2      34 931.574.967  Hôtel Restaurant Campanile Nogent-sur-Marne   \n",
       "3      34 931.574.967                      Résidence les calanques   \n",
       "4      34 931.574.967                                       1PACTE   \n",
       "\n",
       "  id_station_itinerance                      id_station_local  \\\n",
       "0          FRG10P43268A                          FRG10P43268A   \n",
       "1        FR000011062174  02af2893-256f-4124-8d58-c728dc38f720   \n",
       "2        FR000012292701  02af2893-256f-4124-8d58-c728dc38f720   \n",
       "3        FR000012308585  02af2893-256f-4124-8d58-c728dc38f720   \n",
       "4        FR000012616553  02af2893-256f-4124-8d58-c728dc38f720   \n",
       "\n",
       "                                   nom_station  ...       datagouv_dataset_id  \\\n",
       "0                       Intermarché Yssingeaux  ...  6054b5221247124149d65773   \n",
       "1                            Hotel saint alban  ...  627d1223d094836d7af7eb7f   \n",
       "2  Hôtel Restaurant Campanile Nogent-sur-Marne  ...  627d1223d094836d7af7eb7f   \n",
       "3                      Résidence les calanques  ...  627d1223d094836d7af7eb7f   \n",
       "4                                       1PACTE  ...  627d1223d094836d7af7eb7f   \n",
       "\n",
       "                   datagouv_resource_id datagouv_organization_or_owner  \\\n",
       "0  f406e28c-1f83-4912-8884-6ae49c5ddc90                        e-totem   \n",
       "1  19ebb40d-f992-457b-a93e-c0f7615e8a29                          maneo   \n",
       "2  19ebb40d-f992-457b-a93e-c0f7615e8a29                          maneo   \n",
       "3  19ebb40d-f992-457b-a93e-c0f7615e8a29                          maneo   \n",
       "4  19ebb40d-f992-457b-a93e-c0f7615e8a29                          maneo   \n",
       "\n",
       "                         created_at  consolidated_longitude  \\\n",
       "0  2023-05-02T16:32:25.314000+00:00                4.116103   \n",
       "1  2022-05-12T15:56:52.355000+00:00                3.407609   \n",
       "2  2022-05-12T15:56:52.355000+00:00                2.493570   \n",
       "3  2022-05-12T15:56:52.355000+00:00                8.657888   \n",
       "4  2022-05-12T15:56:52.355000+00:00                5.476711   \n",
       "\n",
       "  consolidated_latitude consolidated_code_postal  consolidated_commune  \\\n",
       "0             45.143782                    43200            Yssingeaux   \n",
       "1             43.419591                    34120               Pézenas   \n",
       "2             48.832678                    94130      Nogent-sur-Marne   \n",
       "3             41.908579                      NaN               Ajaccio   \n",
       "4             43.476584                    13120              Gardanne   \n",
       "\n",
       "  consolidated_is_lon_lat_correct consolidated_is_code_insee_verified  \n",
       "0                            True                                True  \n",
       "1                           False                                True  \n",
       "2                            True                                True  \n",
       "3                            True                                True  \n",
       "4                            True                                True  \n",
       "\n",
       "[5 rows x 51 columns]"
      ],
      "text/html": [
       "<div>\n",
       "<style scoped>\n",
       "    .dataframe tbody tr th:only-of-type {\n",
       "        vertical-align: middle;\n",
       "    }\n",
       "\n",
       "    .dataframe tbody tr th {\n",
       "        vertical-align: top;\n",
       "    }\n",
       "\n",
       "    .dataframe thead th {\n",
       "        text-align: right;\n",
       "    }\n",
       "</style>\n",
       "<table border=\"1\" class=\"dataframe\">\n",
       "  <thead>\n",
       "    <tr style=\"text-align: right;\">\n",
       "      <th></th>\n",
       "      <th>nom_amenageur</th>\n",
       "      <th>siren_amenageur</th>\n",
       "      <th>contact_amenageur</th>\n",
       "      <th>nom_operateur</th>\n",
       "      <th>contact_operateur</th>\n",
       "      <th>telephone_operateur</th>\n",
       "      <th>nom_enseigne</th>\n",
       "      <th>id_station_itinerance</th>\n",
       "      <th>id_station_local</th>\n",
       "      <th>nom_station</th>\n",
       "      <th>...</th>\n",
       "      <th>datagouv_dataset_id</th>\n",
       "      <th>datagouv_resource_id</th>\n",
       "      <th>datagouv_organization_or_owner</th>\n",
       "      <th>created_at</th>\n",
       "      <th>consolidated_longitude</th>\n",
       "      <th>consolidated_latitude</th>\n",
       "      <th>consolidated_code_postal</th>\n",
       "      <th>consolidated_commune</th>\n",
       "      <th>consolidated_is_lon_lat_correct</th>\n",
       "      <th>consolidated_is_code_insee_verified</th>\n",
       "    </tr>\n",
       "  </thead>\n",
       "  <tbody>\n",
       "    <tr>\n",
       "      <th>0</th>\n",
       "      <td>Intermarché Yssingeaux</td>\n",
       "      <td>NaN</td>\n",
       "      <td>NaN</td>\n",
       "      <td>E-TOTEM</td>\n",
       "      <td>contact@e-totem.fr</td>\n",
       "      <td>NaN</td>\n",
       "      <td>Intermarché Yssingeaux</td>\n",
       "      <td>FRG10P43268A</td>\n",
       "      <td>FRG10P43268A</td>\n",
       "      <td>Intermarché Yssingeaux</td>\n",
       "      <td>...</td>\n",
       "      <td>6054b5221247124149d65773</td>\n",
       "      <td>f406e28c-1f83-4912-8884-6ae49c5ddc90</td>\n",
       "      <td>e-totem</td>\n",
       "      <td>2023-05-02T16:32:25.314000+00:00</td>\n",
       "      <td>4.116103</td>\n",
       "      <td>45.143782</td>\n",
       "      <td>43200</td>\n",
       "      <td>Yssingeaux</td>\n",
       "      <td>True</td>\n",
       "      <td>True</td>\n",
       "    </tr>\n",
       "    <tr>\n",
       "      <th>1</th>\n",
       "      <td>Hotel saint Alban</td>\n",
       "      <td>379629447.0</td>\n",
       "      <td>claudel.philippe@gmail.com</td>\n",
       "      <td>ELECTROMAPS</td>\n",
       "      <td>oscar@electromaps.com</td>\n",
       "      <td>34 931.574.967</td>\n",
       "      <td>Hotel saint alban</td>\n",
       "      <td>FR000011062174</td>\n",
       "      <td>02af2893-256f-4124-8d58-c728dc38f720</td>\n",
       "      <td>Hotel saint alban</td>\n",
       "      <td>...</td>\n",
       "      <td>627d1223d094836d7af7eb7f</td>\n",
       "      <td>19ebb40d-f992-457b-a93e-c0f7615e8a29</td>\n",
       "      <td>maneo</td>\n",
       "      <td>2022-05-12T15:56:52.355000+00:00</td>\n",
       "      <td>3.407609</td>\n",
       "      <td>43.419591</td>\n",
       "      <td>34120</td>\n",
       "      <td>Pézenas</td>\n",
       "      <td>False</td>\n",
       "      <td>True</td>\n",
       "    </tr>\n",
       "    <tr>\n",
       "      <th>2</th>\n",
       "      <td>Hôtel Restaurant Campanile Nogent-sur-Marne</td>\n",
       "      <td>349009423.0</td>\n",
       "      <td>manager.nogentsurmarne@campanile.fr</td>\n",
       "      <td>ELECTROMAPS</td>\n",
       "      <td>oscar@electromaps.com</td>\n",
       "      <td>34 931.574.967</td>\n",
       "      <td>Hôtel Restaurant Campanile Nogent-sur-Marne</td>\n",
       "      <td>FR000012292701</td>\n",
       "      <td>02af2893-256f-4124-8d58-c728dc38f720</td>\n",
       "      <td>Hôtel Restaurant Campanile Nogent-sur-Marne</td>\n",
       "      <td>...</td>\n",
       "      <td>627d1223d094836d7af7eb7f</td>\n",
       "      <td>19ebb40d-f992-457b-a93e-c0f7615e8a29</td>\n",
       "      <td>maneo</td>\n",
       "      <td>2022-05-12T15:56:52.355000+00:00</td>\n",
       "      <td>2.493570</td>\n",
       "      <td>48.832678</td>\n",
       "      <td>94130</td>\n",
       "      <td>Nogent-sur-Marne</td>\n",
       "      <td>True</td>\n",
       "      <td>True</td>\n",
       "    </tr>\n",
       "    <tr>\n",
       "      <th>3</th>\n",
       "      <td>Résidence Les Calanques</td>\n",
       "      <td>812328128.0</td>\n",
       "      <td>albarry@residence-lescalanques.fr</td>\n",
       "      <td>ELECTROMAPS</td>\n",
       "      <td>oscar@electromaps.com</td>\n",
       "      <td>34 931.574.967</td>\n",
       "      <td>Résidence les calanques</td>\n",
       "      <td>FR000012308585</td>\n",
       "      <td>02af2893-256f-4124-8d58-c728dc38f720</td>\n",
       "      <td>Résidence les calanques</td>\n",
       "      <td>...</td>\n",
       "      <td>627d1223d094836d7af7eb7f</td>\n",
       "      <td>19ebb40d-f992-457b-a93e-c0f7615e8a29</td>\n",
       "      <td>maneo</td>\n",
       "      <td>2022-05-12T15:56:52.355000+00:00</td>\n",
       "      <td>8.657888</td>\n",
       "      <td>41.908579</td>\n",
       "      <td>NaN</td>\n",
       "      <td>Ajaccio</td>\n",
       "      <td>True</td>\n",
       "      <td>True</td>\n",
       "    </tr>\n",
       "    <tr>\n",
       "      <th>4</th>\n",
       "      <td>1PACTE</td>\n",
       "      <td>803719277.0</td>\n",
       "      <td>m.levy@1pacte.com</td>\n",
       "      <td>ELECTROMAPS</td>\n",
       "      <td>oscar@electromaps.com</td>\n",
       "      <td>34 931.574.967</td>\n",
       "      <td>1PACTE</td>\n",
       "      <td>FR000012616553</td>\n",
       "      <td>02af2893-256f-4124-8d58-c728dc38f720</td>\n",
       "      <td>1PACTE</td>\n",
       "      <td>...</td>\n",
       "      <td>627d1223d094836d7af7eb7f</td>\n",
       "      <td>19ebb40d-f992-457b-a93e-c0f7615e8a29</td>\n",
       "      <td>maneo</td>\n",
       "      <td>2022-05-12T15:56:52.355000+00:00</td>\n",
       "      <td>5.476711</td>\n",
       "      <td>43.476584</td>\n",
       "      <td>13120</td>\n",
       "      <td>Gardanne</td>\n",
       "      <td>True</td>\n",
       "      <td>True</td>\n",
       "    </tr>\n",
       "  </tbody>\n",
       "</table>\n",
       "<p>5 rows × 51 columns</p>\n",
       "</div>"
      ]
     },
     "execution_count": 3,
     "metadata": {},
     "output_type": "execute_result"
    }
   ],
   "execution_count": 3
  },
  {
   "metadata": {
    "ExecuteTime": {
     "end_time": "2024-07-21T13:07:46.462477Z",
     "start_time": "2024-07-21T13:07:46.451810Z"
    }
   },
   "cell_type": "code",
   "source": [
    "print(data.shape)\n",
    "print(data.dtypes)"
   ],
   "id": "170abf3f546dd00a",
   "outputs": [
    {
     "name": "stdout",
     "output_type": "stream",
     "text": [
      "(80738, 51)\n",
      "nom_amenageur                                  object\n",
      "siren_amenageur                               float64\n",
      "contact_amenageur                              object\n",
      "nom_operateur                                  object\n",
      "contact_operateur                              object\n",
      "telephone_operateur                            object\n",
      "nom_enseigne                                   object\n",
      "id_station_itinerance                          object\n",
      "id_station_local                               object\n",
      "nom_station                                    object\n",
      "implantation_station                           object\n",
      "adresse_station                                object\n",
      "code_insee_commune                             object\n",
      "coordonneesXY                                  object\n",
      "nbre_pdc                                        int64\n",
      "id_pdc_itinerance                              object\n",
      "id_pdc_local                                   object\n",
      "puissance_nominale                            float64\n",
      "prise_type_ef                                  object\n",
      "prise_type_2                                   object\n",
      "prise_type_combo_ccs                           object\n",
      "prise_type_chademo                             object\n",
      "prise_type_autre                               object\n",
      "gratuit                                        object\n",
      "paiement_acte                                  object\n",
      "paiement_cb                                    object\n",
      "paiement_autre                                 object\n",
      "tarification                                   object\n",
      "condition_acces                                object\n",
      "reservation                                    object\n",
      "horaires                                       object\n",
      "accessibilite_pmr                              object\n",
      "restriction_gabarit                            object\n",
      "station_deux_roues                             object\n",
      "raccordement                                   object\n",
      "num_pdl                                        object\n",
      "date_mise_en_service                   datetime64[ns]\n",
      "observations                                   object\n",
      "date_maj                                       object\n",
      "cable_t2_attache                               object\n",
      "last_modified                                  object\n",
      "datagouv_dataset_id                            object\n",
      "datagouv_resource_id                           object\n",
      "datagouv_organization_or_owner                 object\n",
      "created_at                                     object\n",
      "consolidated_longitude                        float64\n",
      "consolidated_latitude                         float64\n",
      "consolidated_code_postal                       object\n",
      "consolidated_commune                           object\n",
      "consolidated_is_lon_lat_correct                  bool\n",
      "consolidated_is_code_insee_verified              bool\n",
      "dtype: object\n"
     ]
    }
   ],
   "execution_count": 4
  },
  {
   "metadata": {},
   "cell_type": "code",
   "source": [
    "# labéliser les colonnes pour les visuels\n",
    "labels = {\n",
    "    \"nom_amenageur\": \"Nom amenageur\"\n",
    "    ,\"nom_operateur\": \"Nom opérateur\"\n",
    "    ,\"nom_enseigne\": \"Nom enseigne\"\n",
    "    ,\"mis_en_service_cette_annee\": \"Mise en service en 2024\"\n",
    "    ,\"date_mise_en_service\": \"Date de mise en service\"\n",
    "    ,\"puissance_nominale_cat\": \"Puissance nominale\"\n",
    "    ,\"prise_type_combo_ccs\": \"Possède une prise combo\"\n",
    "    ,\"prise_type_2\": \"Possède une prise type 2\"\n",
    "}"
   ],
   "id": "5a2c853a3f0fcb7d",
   "outputs": [],
   "execution_count": null
  },
  {
   "metadata": {},
   "cell_type": "code",
   "source": [
    "plt.figure(figsize=(40,20))\n",
    "sns.heatmap(data.isna(), cbar=False)"
   ],
   "id": "18938a8b99d3f1ce",
   "outputs": [],
   "execution_count": null
  },
  {
   "metadata": {},
   "cell_type": "code",
   "source": [
    "# Calculer les pourcentages de valeurs manquantes\n",
    "missing_percentages = (data.isna().sum() / data.shape[0]).sort_values(ascending=False)\n",
    "\n",
    "# Filtrer les colonnes avec un pourcentage de valeurs manquantes différent de zéro\n",
    "filtered_missing_percentages = missing_percentages.loc[missing_percentages > 0]\n",
    "\n",
    "# Afficher les pourcentages de valeurs manquantes filtrés\n",
    "print(filtered_missing_percentages)"
   ],
   "id": "9de70de5aadced6c",
   "outputs": [],
   "execution_count": null
  },
  {
   "metadata": {},
   "cell_type": "code",
   "source": [
    "# Suppression des colonnes qui ont plus que 50% des données manquantes\n",
    "data = data.drop(columns=['id_pdc_local', 'observations', 'cable_t2_attache', 'tarification', 'num_pdl'])\n",
    "\n",
    "# Suppression des colonnes qui ne peuvent pas etre remplises () et surtout ils ont une pourcentage importante manquante \n",
    "data =  data.drop(columns=['id_station_local'])\n",
    "\n",
    "# le pourcentage des valeurs manquantes dans les colonnes suivantes est faible \n",
    "data.dropna(subset=['contact_amenageur', 'telephone_operateur'], inplace=True)\n"
   ],
   "id": "9d12429f41375f8d",
   "outputs": [],
   "execution_count": null
  },
  {
   "metadata": {},
   "cell_type": "code",
   "source": [
    "# Verifier les pourcentages après les drop\n",
    "# Shows the precentge of missing values in each column\n",
    "(data.isna().sum()/data.shape[0]).sort_values(ascending=True)"
   ],
   "id": "2800fbe7de77990d",
   "outputs": [],
   "execution_count": null
  },
  {
   "metadata": {},
   "cell_type": "code",
   "source": [
    "# Convertir les valeurs en chaînes de caractères, obtenir les valeurs uniques et les trier par ordre ascendant\n",
    "unique_data_paiment_cb = sorted(data['paiement_cb'].astype(str).unique())\n",
    "unique_data_paiment_autre = sorted(data['paiement_autre'].astype(str).unique())\n",
    "unique_data_gratuit = sorted(data['gratuit'].astype(str).unique())\n",
    "unique_data_raccordemant = sorted(data['raccordement'].astype(str).unique())\n",
    "\n",
    "# Afficher les valeurs uniques\n",
    "print(unique_data_paiment_cb)\n",
    "print('\\n')\n",
    "print(unique_data_paiment_autre)\n",
    "print('\\n')\n",
    "print(unique_data_gratuit)\n",
    "print('\\n')\n",
    "print(unique_data_raccordemant)"
   ],
   "id": "a53954a2fbf9a5a9",
   "outputs": [],
   "execution_count": null
  },
  {
   "metadata": {},
   "cell_type": "code",
   "source": "# fill it with random values from the column itself paiment_cb, paiment_autre, raccordemant ",
   "id": "a67f383e97f57281",
   "outputs": [],
   "execution_count": null
  },
  {
   "metadata": {},
   "cell_type": "code",
   "source": [
    "df_filter = data[\"id_pdc_itinerance\"]==\"Non concerné\"\n",
    "\n",
    "data = pd.concat([\n",
    "  data[~df_filter].drop_duplicates('id_pdc_itinerance', keep='last'),\n",
    "  data[df_filter]\n",
    "])"
   ],
   "id": "db9b36bbbd118862",
   "outputs": [],
   "execution_count": null
  },
  {
   "metadata": {},
   "cell_type": "code",
   "source": [
    "# Calcul approximatif du nombre de PDC par année\n",
    "# Extraire l'année à partir de la colonne de dates\n",
    "data['annee'] = data['date_mise_en_service'].dt.year\n",
    "\n",
    "# Compter le nombre de points de recharge par année\n",
    "count_by_year = data['annee'].value_counts().sort_index()\n",
    "\n",
    "# Afficher le résultat\n",
    "print(\"Nombre de points de recharge par année :\")\n",
    "print(count_by_year)"
   ],
   "id": "aeeeb388e9b0fe",
   "outputs": [],
   "execution_count": null
  },
  {
   "metadata": {},
   "cell_type": "code",
   "source": [
    "# Date de mise en service\n",
    "# Remplacer les valeurs de mise en service avant 2010 par None\n",
    "data.loc[data[\"date_mise_en_service\"]<pd.to_datetime(\"2010-01-01\"),\"date_mise_en_service\"]=None\n",
    "# Vérifier si la mise en service a eu lieu en 2024 en ajoutant une colonne 'mis_en_service_cette_annee'\n",
    "data[\"mis_en_service_cette_annee\"] = np.where(data[\"date_mise_en_service\"].dt.year==pd.to_datetime(\"2024-01-01\").year\n",
    "         , \"Oui\"\n",
    "         , \"Non\")"
   ],
   "id": "b6e1659d8a32f5cc",
   "outputs": [],
   "execution_count": null
  },
  {
   "metadata": {},
   "cell_type": "code",
   "source": [
    "# Power\n",
    "# Normaliser les valeurs de la puissance et les catégoriser\n",
    "data[\"puissance_nominale_cat\"] = pd.cut(\\\n",
    "  data[\"puissance_nominale\"].apply(lambda x: x/1000 if x >1000 else x)\\\n",
    ",[0,1.8,3.5,7.5,26,52,151,500]\n",
    ",labels=[\"1.7\",\"3.4\",\"7.5\",\"22\",\"50\",\"150\",\">150\"]\n",
    ", include_lowest=False)"
   ],
   "id": "a03c73b2f391b0ee",
   "outputs": [],
   "execution_count": null
  },
  {
   "metadata": {},
   "cell_type": "code",
   "source": [
    "# les types de prise \n",
    "data[\"prise_type_combo_ccs\"] = (data[\"prise_type_combo_ccs\"].str.lower().map\n",
    "                      ({\"0\":\"Non\",\"false\":\"Non\",\"1\":\"Oui\",\"true\":\"Oui\"}))\n",
    "data[\"prise_type_2\"] = (data[\"prise_type_2\"].str.lower().map\n",
    "                      ({\"0\":\"Non\",\"false\":\"Non\",\"1\":\"Oui\",\"true\":\"Oui\"}))\n",
    "# les types de paiment \n",
    "data[\"paiement_autre\"] = (data[\"paiement_autre\"].str.lower().map\n",
    "                      ({\"0\":\"FALSE\",\"false\":\"FALSE\",\"False\":\"FALSE\",\"1\":\"TRUE\",\"true\":\"TRUE\",\"True\":\"TRUE\"}))\n",
    "data[\"paiement_cb\"] = (data[\"paiement_cb\"].str.lower().map\n",
    "                      ({\"0\":\"FALSE\",\"false\":\"FALSE\",\"False\":\"FALSE\",\"1\":\"TRUE\",\"true\":\"TRUE\",\"True\":\"TRUE\"}))\n",
    "\n",
    "data[\"gratuit\"] = (data[\"gratuit\"].str.lower().map\n",
    "                      ({\"0\":\"FALSE\",\"false\":\"FALSE\",\"False\":\"FALSE\",\"1\":\"TRUE\",\"true\":\"TRUE\",\"True\":\"TRUE\"}))\n",
    "\n"
   ],
   "id": "79388bbb511f36fc",
   "outputs": [],
   "execution_count": null
  },
  {
   "metadata": {},
   "cell_type": "code",
   "source": [
    "# Ajout d'une colonne 'code_departement' à partir de 'consolidated_code_postal'\n",
    "data[\"code_departement\"] = data[\"consolidated_code_postal\"].str[:2]\n",
    "\n",
    "# Join des deux tables sur la colonne 'code_departement'\n",
    "data = pd.merge(data,df_dep, how='left', on='code_departement')"
   ],
   "id": "c9f556e0cc420281",
   "outputs": [],
   "execution_count": null
  },
  {
   "metadata": {},
   "cell_type": "code",
   "source": "data.head(100)",
   "id": "d0ad7b0ee7472b1a",
   "outputs": [],
   "execution_count": null
  },
  {
   "metadata": {},
   "cell_type": "code",
   "source": "data.columns",
   "id": "c87fff23318b46cf",
   "outputs": [],
   "execution_count": null
  },
  {
   "metadata": {},
   "cell_type": "code",
   "source": [
    "# Shows the precentge of missing values in each column\n",
    "(data.isna().sum()/data.shape[0]).sort_values(ascending=True)"
   ],
   "id": "e4b4578d962868aa",
   "outputs": [],
   "execution_count": null
  },
  {
   "metadata": {},
   "cell_type": "code",
   "source": [
    "# Convertir les valeurs en chaînes de caractères, obtenir les valeurs uniques et les trier par ordre ascendant\n",
    "unique_data_paiment_cb = sorted(data['paiement_cb'].astype(str).unique())\n",
    "unique_data_paiment_autre = sorted(data['paiement_autre'].astype(str).unique())\n",
    "unique_data_gratuit = sorted(data['gratuit'].astype(str).unique())\n",
    "unique_data_raccordemant = sorted(data['raccordement'].astype(str).unique())\n",
    "\n",
    "# Afficher les valeurs uniques\n",
    "print(unique_data_paiment_cb)\n",
    "print('\\n')\n",
    "print(unique_data_paiment_autre)\n",
    "print('\\n')\n",
    "print(unique_data_gratuit)\n",
    "print('\\n')\n",
    "print(unique_data_raccordemant)"
   ],
   "id": "9d8edc20ed156d06",
   "outputs": [],
   "execution_count": null
  },
  {
   "metadata": {},
   "cell_type": "code",
   "source": [
    "# le but de la fonction c'est de remplacer les valeurs nan par des randoms values pour les remplir \n",
    "def replace_nan_with_random(df, column):\n",
    "    # Sélectionner les valeurs non manquantes\n",
    "    non_nan_values = df[column].dropna().unique()\n",
    "    # Générer des valeurs aléatoires pour remplacer les NaN\n",
    "    random_values = np.random.choice(non_nan_values, size=df[column].isna().sum(), replace=True)\n",
    "    # Remplacer les NaN par les valeurs aléatoires générées\n",
    "    df.loc[df[column].isna(), column] = random_values\n",
    "    "
   ],
   "id": "8322fb3e76680a58",
   "outputs": [],
   "execution_count": null
  },
  {
   "metadata": {},
   "cell_type": "code",
   "source": [
    "# Remplacer les valeurs NaN par des valeurs aléatoires pour chaque colonne spécifiée\n",
    "for column in ['paiement_cb', 'paiement_autre', 'raccordement']:\n",
    "    replace_nan_with_random(data, column)"
   ],
   "id": "91bcbb782d011866",
   "outputs": [],
   "execution_count": null
  },
  {
   "metadata": {},
   "cell_type": "code",
   "source": [
    "# Shows the precentge of missing values in each column\n",
    "(data.isna().sum()/data.shape[0]).sort_values(ascending=True)"
   ],
   "id": "69a8cefd6f130a67",
   "outputs": [],
   "execution_count": null
  },
  {
   "metadata": {},
   "cell_type": "code",
   "source": "print(data[['date_mise_en_service', 'mis_en_service_cette_annee']].head(100))\n",
   "id": "95edf26a8450e167",
   "outputs": [],
   "execution_count": null
  },
  {
   "metadata": {},
   "cell_type": "code",
   "source": "print(data.dtypes)",
   "id": "4f67eba50c87a67e",
   "outputs": [],
   "execution_count": null
  },
  {
   "metadata": {},
   "cell_type": "code",
   "source": [
    "numeric_columns = data.select_dtypes(include=[np.number])\n",
    "\n",
    "# Calcul de la matrice de corrélation\n",
    "correlation_matrix = numeric_columns.corr()\n",
    "\n",
    "# Affichage de la matrice de corrélation avec un heatmap\n",
    "plt.figure(figsize=(12, 10))\n",
    "sns.heatmap(correlation_matrix, annot=True, cmap='coolwarm', fmt='.2f', square=True)\n",
    "plt.title('Matrice de corrélation')\n",
    "plt.show()"
   ],
   "id": "8768d4021baad5d3",
   "outputs": [],
   "execution_count": null
  },
  {
   "metadata": {},
   "cell_type": "code",
   "source": [
    "# Sélection des colonnes pertinentes\n",
    "x = data['nbre_pdc']\n",
    "y = data['puissance_nominale']\n",
    "\n",
    "# Création du scatter plot\n",
    "plt.figure(figsize=(10, 6))\n",
    "plt.scatter(x, y, alpha=0.5)\n",
    "plt.title('Corrélation entre nbre_pdc et puissance nominale')\n",
    "plt.xlabel('Nombre de points de charge')\n",
    "plt.ylabel('Puissance nominale')\n",
    "plt.grid(True)\n",
    "plt.show()"
   ],
   "id": "27fab0796f2ec3d6",
   "outputs": [],
   "execution_count": null
  },
  {
   "metadata": {
    "ExecuteTime": {
     "end_time": "2024-07-21T13:09:37.507136Z",
     "start_time": "2024-07-21T13:09:36.716836Z"
    }
   },
   "cell_type": "code",
   "source": [
    "\n",
    "file_path = '.\\\\data\\\\voitures-par-commune-par-energie.csv'\n",
    "\n",
    "dtype_dict = {\n",
    "    'codgeo': str,          \n",
    "    'epci': str,            \n",
    "}\n",
    "\n",
    "try:\n",
    "    df_ve = pd.read_csv(file_path, delimiter=';', dtype=dtype_dict, on_bad_lines='warn', quoting=3)\n",
    "except Exception as e:\n",
    "    print(f\"Erreur lors du chargement du fichier : {e}\")\n",
    "\n",
    "# Afficher les premières lignes pour vérifier le chargement\n",
    "print(df_ve.head())\n",
    "\n",
    "# Vérifier les colonnes disponibles\n",
    "print(df_ve.columns)\n"
   ],
   "id": "bb72e4a61060d6aa",
   "outputs": [
    {
     "name": "stdout",
     "output_type": "stream",
     "text": [
      "  codgeo  libgeo       epci                      libepci date_arrete  \\\n",
      "0  15022  BONNAC  200066637  CC Hautes Terres Communauté  31/12/2021   \n",
      "1  15022  BONNAC  200066637  CC Hautes Terres Communauté  31/03/2022   \n",
      "2  15022  BONNAC  200066637  CC Hautes Terres Communauté  30/09/2022   \n",
      "3  15022  BONNAC  200066637  CC Hautes Terres Communauté  31/12/2022   \n",
      "4  15022  BONNAC  200066637  CC Hautes Terres Communauté  31/03/2024   \n",
      "\n",
      "   nb_vp_rechargeables_el  nb_vp_rechargeables_gaz  nb_vp  \n",
      "0                       0                        0    221  \n",
      "1                       0                        0    222  \n",
      "2                       0                        0    226  \n",
      "3                       0                        0    223  \n",
      "4                       0                        0    236  \n",
      "Index(['codgeo', 'libgeo', 'epci', 'libepci', 'date_arrete',\n",
      "       'nb_vp_rechargeables_el', 'nb_vp_rechargeables_gaz', 'nb_vp'],\n",
      "      dtype='object')\n"
     ]
    }
   ],
   "execution_count": 5
  },
  {
   "metadata": {
    "ExecuteTime": {
     "end_time": "2024-07-21T13:09:38.725983Z",
     "start_time": "2024-07-21T13:09:38.695616Z"
    }
   },
   "cell_type": "code",
   "source": "df_ve= df_ve.drop(['nb_vp_rechargeables_gaz', 'libepci', 'epci'], axis=1)\n",
   "id": "1f13587b63306649",
   "outputs": [],
   "execution_count": 6
  },
  {
   "metadata": {
    "ExecuteTime": {
     "end_time": "2024-07-21T13:09:41.706540Z",
     "start_time": "2024-07-21T13:09:41.702018Z"
    }
   },
   "cell_type": "code",
   "source": [
    "print(df_ve.shape)\n",
    "print(df_ve.dtypes)"
   ],
   "id": "6026a813296080be",
   "outputs": [
    {
     "name": "stdout",
     "output_type": "stream",
     "text": [
      "(492532, 5)\n",
      "codgeo                    object\n",
      "libgeo                    object\n",
      "date_arrete               object\n",
      "nb_vp_rechargeables_el     int64\n",
      "nb_vp                      int64\n",
      "dtype: object\n"
     ]
    }
   ],
   "execution_count": 7
  },
  {
   "metadata": {},
   "cell_type": "code",
   "outputs": [],
   "execution_count": null,
   "source": "",
   "id": "d9641927c0d26fd7"
  }
 ],
 "metadata": {
  "kernelspec": {
   "display_name": "Python 3",
   "language": "python",
   "name": "python3"
  },
  "language_info": {
   "codemirror_mode": {
    "name": "ipython",
    "version": 2
   },
   "file_extension": ".py",
   "mimetype": "text/x-python",
   "name": "python",
   "nbconvert_exporter": "python",
   "pygments_lexer": "ipython2",
   "version": "2.7.6"
  }
 },
 "nbformat": 4,
 "nbformat_minor": 5
}
