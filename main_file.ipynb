{
 "cells": [
  {
   "cell_type": "code",
   "id": "initial_id",
   "metadata": {
    "collapsed": true
   },
   "source": [
    "import pandas as pd\n",
    "import numpy as np\n",
    "import matplotlib.pyplot as plt\n",
    "import seaborn as sns\n",
    "import sys\n",
    "import pathlib\n",
    "import kaleido\n",
    "import plotly.express as px\n",
    "import plotly.io as pio\n",
    "from IPython.display import display, Markdown\n",
    "\n",
    "pd.set_option('future.no_silent_downcasting', True)"
   ],
   "outputs": [],
   "execution_count": null
  },
  {
   "metadata": {},
   "cell_type": "code",
   "source": [
    "# borne de recharge\n",
    "data =  pd.read_csv(\n",
    "    \".\\data\\consolidation-etalab-schema-irve-statique-v-2.3.1-20240705.csv\",\n",
    "    low_memory=False\n",
    "    ,parse_dates=[\"date_mise_en_service\"]\n",
    "    ,dtype={\"consolidated_code_postal\": str\n",
    "                       })\\\n",
    "  .sort_values(['id_pdc_itinerance', 'last_modified'])\\\n",
    "\n",
    "# Département\n",
    "df_dep = pd.read_csv(\n",
    "    \".\\data\\departements-france.csv\"\n",
    "    ,dtype={\"code_departement\": str\n",
    "                        })\n",
    "\n",
    "data.head()"
   ],
   "id": "71df5d7b689a6c2b",
   "outputs": [],
   "execution_count": null
  },
  {
   "metadata": {},
   "cell_type": "code",
   "source": [
    "print(data.shape)\n",
    "print(data.dtypes)"
   ],
   "id": "170abf3f546dd00a",
   "outputs": [],
   "execution_count": null
  },
  {
   "metadata": {},
   "cell_type": "code",
   "source": [
    "# labéliser les colonnes pour les visuels\n",
    "labels = {\n",
    "    \"nom_amenageur\": \"Nom amenageur\"\n",
    "    ,\"nom_operateur\": \"Nom opérateur\"\n",
    "    ,\"nom_enseigne\": \"Nom enseigne\"\n",
    "    ,\"mis_en_service_cette_annee\": \"Mise en service en 2023\"\n",
    "    ,\"date_mise_en_service\": \"Date de mise en service\"\n",
    "    ,\"puissance_nominale_cat\": \"Puissance nominale\"\n",
    "    ,\"prise_type_combo_ccs\": \"Possède une prise combo\"\n",
    "    ,\"prise_type_2\": \"Possède une prise type 2\"\n",
    "}"
   ],
   "id": "5a2c853a3f0fcb7d",
   "outputs": [],
   "execution_count": null
  },
  {
   "metadata": {},
   "cell_type": "code",
   "source": [
    "plt.figure(figsize=(40,20))\n",
    "sns.heatmap(data.isna(), cbar=False)"
   ],
   "id": "18938a8b99d3f1ce",
   "outputs": [],
   "execution_count": null
  },
  {
   "metadata": {},
   "cell_type": "code",
   "source": [
    "# Calculer les pourcentages de valeurs manquantes\n",
    "missing_percentages = (data.isna().sum() / data.shape[0]).sort_values(ascending=False)\n",
    "\n",
    "# Filtrer les colonnes avec un pourcentage de valeurs manquantes différent de zéro\n",
    "filtered_missing_percentages = missing_percentages.loc[missing_percentages > 0]\n",
    "\n",
    "# Afficher les pourcentages de valeurs manquantes filtrés\n",
    "print(filtered_missing_percentages)"
   ],
   "id": "9de70de5aadced6c",
   "outputs": [],
   "execution_count": null
  },
  {
   "metadata": {},
   "cell_type": "code",
   "source": [
    "# Suppression des colonnes qui ont plus que 50% des données manquantes\n",
    "data = data.drop(columns=['id_pdc_local', 'observations', 'cable_t2_attache', 'tarification', 'num_pdl'])\n",
    "\n",
    "# Suppression des colonnes qui ne peuvent pas etre remplises () et surtout ils ont une pourcentage importante manquante \n",
    "data =  data.drop(columns=['id_station_local'])\n",
    "\n",
    "# le pourcentage des valeurs manquantes dans les colonnes suivantes est faible \n",
    "data.dropna(subset=['contact_amenageur', 'telephone_operateur'], inplace=True)\n"
   ],
   "id": "9d12429f41375f8d",
   "outputs": [],
   "execution_count": null
  },
  {
   "metadata": {},
   "cell_type": "code",
   "source": [
    "# Verifier les pourcentages après les drop\n",
    "# Shows the precentge of missing values in each column\n",
    "(data.isna().sum()/data.shape[0]).sort_values(ascending=True)"
   ],
   "id": "2800fbe7de77990d",
   "outputs": [],
   "execution_count": null
  },
  {
   "metadata": {},
   "cell_type": "code",
   "source": [
    "# Convertir les valeurs en chaînes de caractères, obtenir les valeurs uniques et les trier par ordre ascendant\n",
    "unique_data_paiment_cb = sorted(data['paiement_cb'].astype(str).unique())\n",
    "unique_data_paiment_autre = sorted(data['paiement_autre'].astype(str).unique())\n",
    "unique_data_gratuit = sorted(data['gratuit'].astype(str).unique())\n",
    "unique_data_raccordemant = sorted(data['raccordement'].astype(str).unique())\n",
    "\n",
    "# Afficher les valeurs uniques\n",
    "print(unique_data_paiment_cb)\n",
    "print('\\n')\n",
    "print(unique_data_paiment_autre)\n",
    "print('\\n')\n",
    "print(unique_data_gratuit)\n",
    "print('\\n')\n",
    "print(unique_data_raccordemant)"
   ],
   "id": "a53954a2fbf9a5a9",
   "outputs": [],
   "execution_count": null
  },
  {
   "metadata": {},
   "cell_type": "code",
   "source": "# fill it with random values from the column itself paiment_cb, paiment_autre, raccordemant ",
   "id": "a67f383e97f57281",
   "outputs": [],
   "execution_count": null
  },
  {
   "metadata": {},
   "cell_type": "code",
   "source": [
    "df_filter = data[\"id_pdc_itinerance\"]==\"Non concerné\"\n",
    "\n",
    "data = pd.concat([\n",
    "  data[~df_filter].drop_duplicates('id_pdc_itinerance', keep='last'),\n",
    "  data[df_filter]\n",
    "])"
   ],
   "id": "db9b36bbbd118862",
   "outputs": [],
   "execution_count": null
  },
  {
   "metadata": {},
   "cell_type": "code",
   "source": [
    "# Calcul approximatif du nombre de PDC par année\n",
    "# Extraire l'année à partir de la colonne de dates\n",
    "data['annee'] = data['date_mise_en_service'].dt.year\n",
    "\n",
    "# Compter le nombre de points de recharge par année\n",
    "count_by_year = data['annee'].value_counts().sort_index()\n",
    "\n",
    "# Afficher le résultat\n",
    "print(\"Nombre de points de recharge par année :\")\n",
    "print(count_by_year)"
   ],
   "id": "aeeeb388e9b0fe",
   "outputs": [],
   "execution_count": null
  },
  {
   "metadata": {},
   "cell_type": "code",
   "source": [
    "# Date de mise en service\n",
    "# Remplacer les valeurs de mise en service avant 2010 par None\n",
    "data.loc[data[\"date_mise_en_service\"]<pd.to_datetime(\"2010-01-01\"),\"date_mise_en_service\"]=None\n",
    "# Vérifier si la mise en service a eu lieu en 2024 en ajoutant une colonne 'mis_en_service_cette_annee'\n",
    "data[\"mis_en_service_cette_annee\"] = np.where(data[\"date_mise_en_service\"].dt.year==pd.to_datetime(\"2024-01-01\").year\n",
    "         , \"Oui\"\n",
    "         , \"Non\")"
   ],
   "id": "b6e1659d8a32f5cc",
   "outputs": [],
   "execution_count": null
  },
  {
   "metadata": {},
   "cell_type": "code",
   "source": [
    "# Power\n",
    "# Normaliser les valeurs de la puissance et les catégoriser\n",
    "data[\"puissance_nominale_cat\"] = pd.cut(\\\n",
    "  data[\"puissance_nominale\"].apply(lambda x: x/1000 if x >1000 else x)\\\n",
    ",[0,1.8,3.5,7.5,26,52,151,500]\n",
    ",labels=[\"1.7\",\"3.4\",\"7.5\",\"22\",\"50\",\"150\",\">150\"]\n",
    ", include_lowest=False)"
   ],
   "id": "a03c73b2f391b0ee",
   "outputs": [],
   "execution_count": null
  },
  {
   "metadata": {},
   "cell_type": "code",
   "source": [
    "# les types de prise \n",
    "data[\"prise_type_combo_ccs\"] = (data[\"prise_type_combo_ccs\"].str.lower().map\n",
    "                      ({\"0\":\"Non\",\"false\":\"Non\",\"1\":\"Oui\",\"true\":\"Oui\"}))\n",
    "data[\"prise_type_2\"] = (data[\"prise_type_2\"].str.lower().map\n",
    "                      ({\"0\":\"Non\",\"false\":\"Non\",\"1\":\"Oui\",\"true\":\"Oui\"}))\n",
    "# les types de paiment \n",
    "data[\"paiement_autre\"] = (data[\"paiement_autre\"].str.lower().map\n",
    "                      ({\"0\":\"FALSE\",\"false\":\"FALSE\",\"False\":\"FALSE\",\"1\":\"TRUE\",\"true\":\"TRUE\",\"True\":\"TRUE\"}))\n",
    "data[\"paiement_cb\"] = (data[\"paiement_cb\"].str.lower().map\n",
    "                      ({\"0\":\"FALSE\",\"false\":\"FALSE\",\"False\":\"FALSE\",\"1\":\"TRUE\",\"true\":\"TRUE\",\"True\":\"TRUE\"}))\n",
    "\n",
    "data[\"gratuit\"] = (data[\"gratuit\"].str.lower().map\n",
    "                      ({\"0\":\"FALSE\",\"false\":\"FALSE\",\"False\":\"FALSE\",\"1\":\"TRUE\",\"true\":\"TRUE\",\"True\":\"TRUE\"}))\n",
    "\n"
   ],
   "id": "79388bbb511f36fc",
   "outputs": [],
   "execution_count": null
  },
  {
   "metadata": {},
   "cell_type": "code",
   "source": [
    "# Ajout d'une colonne 'code_departement' à partir de 'consolidated_code_postal'\n",
    "data[\"code_departement\"] = data[\"consolidated_code_postal\"].str[:2]\n",
    "\n",
    "# Join des deux tables sur la colonne 'code_departement'\n",
    "data = pd.merge(data,df_dep, how='left', on='code_departement')"
   ],
   "id": "c9f556e0cc420281",
   "outputs": [],
   "execution_count": null
  },
  {
   "metadata": {},
   "cell_type": "code",
   "source": "data.head(100)",
   "id": "d0ad7b0ee7472b1a",
   "outputs": [],
   "execution_count": null
  },
  {
   "metadata": {},
   "cell_type": "code",
   "source": [
    "# Shows the precentge of missing values in each column\n",
    "(data.isna().sum()/data.shape[0]).sort_values(ascending=True)"
   ],
   "id": "e4b4578d962868aa",
   "outputs": [],
   "execution_count": null
  },
  {
   "metadata": {},
   "cell_type": "code",
   "source": [
    "# Convertir les valeurs en chaînes de caractères, obtenir les valeurs uniques et les trier par ordre ascendant\n",
    "unique_data_paiment_cb = sorted(data['paiement_cb'].astype(str).unique())\n",
    "unique_data_paiment_autre = sorted(data['paiement_autre'].astype(str).unique())\n",
    "unique_data_gratuit = sorted(data['gratuit'].astype(str).unique())\n",
    "unique_data_raccordemant = sorted(data['raccordement'].astype(str).unique())\n",
    "\n",
    "# Afficher les valeurs uniques\n",
    "print(unique_data_paiment_cb)\n",
    "print('\\n')\n",
    "print(unique_data_paiment_autre)\n",
    "print('\\n')\n",
    "print(unique_data_gratuit)\n",
    "print('\\n')\n",
    "print(unique_data_raccordemant)"
   ],
   "id": "9d8edc20ed156d06",
   "outputs": [],
   "execution_count": null
  },
  {
   "metadata": {},
   "cell_type": "code",
   "source": [
    "# le but de la fonction c'est de remplacer les valeurs nan par des randoms values pour les remplir \n",
    "def replace_nan_with_random(df, column):\n",
    "    # Sélectionner les valeurs non manquantes\n",
    "    non_nan_values = df[column].dropna().unique()\n",
    "    # Générer des valeurs aléatoires pour remplacer les NaN\n",
    "    random_values = np.random.choice(non_nan_values, size=df[column].isna().sum(), replace=True)\n",
    "    # Remplacer les NaN par les valeurs aléatoires générées\n",
    "    df.loc[df[column].isna(), column] = random_values\n",
    "    "
   ],
   "id": "8322fb3e76680a58",
   "outputs": [],
   "execution_count": null
  },
  {
   "metadata": {},
   "cell_type": "code",
   "source": [
    "# Remplacer les valeurs NaN par des valeurs aléatoires pour chaque colonne spécifiée\n",
    "for column in ['paiement_cb', 'paiement_autre', 'raccordement']:\n",
    "    replace_nan_with_random(data, column)"
   ],
   "id": "91bcbb782d011866",
   "outputs": [],
   "execution_count": null
  },
  {
   "metadata": {},
   "cell_type": "code",
   "source": [
    "# Shows the precentge of missing values in each column\n",
    "(data.isna().sum()/data.shape[0]).sort_values(ascending=True)"
   ],
   "id": "69a8cefd6f130a67",
   "outputs": [],
   "execution_count": null
  }
 ],
 "metadata": {
  "kernelspec": {
   "display_name": "Python 3",
   "language": "python",
   "name": "python3"
  },
  "language_info": {
   "codemirror_mode": {
    "name": "ipython",
    "version": 2
   },
   "file_extension": ".py",
   "mimetype": "text/x-python",
   "name": "python",
   "nbconvert_exporter": "python",
   "pygments_lexer": "ipython2",
   "version": "2.7.6"
  }
 },
 "nbformat": 4,
 "nbformat_minor": 5
}
